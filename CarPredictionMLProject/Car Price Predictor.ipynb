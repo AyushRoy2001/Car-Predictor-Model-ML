{
 "cells": [
  {
   "cell_type": "markdown",
   "id": "b1cc40dc",
   "metadata": {},
   "source": [
    "## Load Data"
   ]
  },
  {
   "cell_type": "code",
   "execution_count": 1,
   "id": "b74ae69a",
   "metadata": {},
   "outputs": [
    {
     "name": "stdout",
     "output_type": "stream",
     "text": [
      "<class 'pandas.core.frame.DataFrame'>\n",
      "RangeIndex: 157 entries, 0 to 156\n",
      "Data columns (total 16 columns):\n",
      " #   Column               Non-Null Count  Dtype  \n",
      "---  ------               --------------  -----  \n",
      " 0   Manufacturer         157 non-null    object \n",
      " 1   Model                157 non-null    object \n",
      " 2   Sales_in_thousands   157 non-null    float64\n",
      " 3   __year_resale_value  121 non-null    float64\n",
      " 4   Vehicle_type         157 non-null    object \n",
      " 5   Price_in_thousands   155 non-null    float64\n",
      " 6   Engine_size          156 non-null    float64\n",
      " 7   Horsepower           156 non-null    float64\n",
      " 8   Wheelbase            156 non-null    float64\n",
      " 9   Width                156 non-null    float64\n",
      " 10  Length               156 non-null    float64\n",
      " 11  Curb_weight          155 non-null    float64\n",
      " 12  Fuel_capacity        156 non-null    float64\n",
      " 13  Fuel_efficiency      154 non-null    float64\n",
      " 14  Latest_Launch        157 non-null    object \n",
      " 15  Power_perf_factor    155 non-null    float64\n",
      "dtypes: float64(12), object(4)\n",
      "memory usage: 19.8+ KB\n"
     ]
    }
   ],
   "source": [
    "import pandas as pd\n",
    "import numpy as np\n",
    "data = pd.read_csv(\"Car_sales.csv\")\n",
    "data.info()"
   ]
  },
  {
   "cell_type": "markdown",
   "id": "2c94633c",
   "metadata": {},
   "source": [
    "## Data Cleaning"
   ]
  },
  {
   "cell_type": "code",
   "execution_count": 2,
   "id": "d649a936",
   "metadata": {},
   "outputs": [],
   "source": [
    "backup = data.copy()"
   ]
  },
  {
   "cell_type": "code",
   "execution_count": 3,
   "id": "62e6338d",
   "metadata": {},
   "outputs": [],
   "source": [
    "data = data.drop(['Manufacturer', 'Model'],axis=1)"
   ]
  },
  {
   "cell_type": "code",
   "execution_count": 4,
   "id": "870cc907",
   "metadata": {},
   "outputs": [],
   "source": [
    "data1 = pd.get_dummies(data['Vehicle_type'])\n",
    "new_data = pd.concat([data, data1], axis=1)"
   ]
  },
  {
   "cell_type": "code",
   "execution_count": 5,
   "id": "2bbb18b2",
   "metadata": {},
   "outputs": [
    {
     "name": "stdout",
     "output_type": "stream",
     "text": [
      "<class 'pandas.core.frame.DataFrame'>\n",
      "RangeIndex: 157 entries, 0 to 156\n",
      "Data columns (total 16 columns):\n",
      " #   Column               Non-Null Count  Dtype  \n",
      "---  ------               --------------  -----  \n",
      " 0   Sales_in_thousands   157 non-null    float64\n",
      " 1   __year_resale_value  121 non-null    float64\n",
      " 2   Vehicle_type         157 non-null    object \n",
      " 3   Price_in_thousands   155 non-null    float64\n",
      " 4   Engine_size          156 non-null    float64\n",
      " 5   Horsepower           156 non-null    float64\n",
      " 6   Wheelbase            156 non-null    float64\n",
      " 7   Width                156 non-null    float64\n",
      " 8   Length               156 non-null    float64\n",
      " 9   Curb_weight          155 non-null    float64\n",
      " 10  Fuel_capacity        156 non-null    float64\n",
      " 11  Fuel_efficiency      154 non-null    float64\n",
      " 12  Latest_Launch        157 non-null    object \n",
      " 13  Power_perf_factor    155 non-null    float64\n",
      " 14  Car                  157 non-null    uint8  \n",
      " 15  Passenger            157 non-null    uint8  \n",
      "dtypes: float64(12), object(2), uint8(2)\n",
      "memory usage: 17.6+ KB\n"
     ]
    }
   ],
   "source": [
    "new_data.info()"
   ]
  },
  {
   "cell_type": "code",
   "execution_count": 6,
   "id": "5b8b073d",
   "metadata": {},
   "outputs": [],
   "source": [
    "new_data = new_data.drop(['Vehicle_type'],axis=1)"
   ]
  },
  {
   "cell_type": "code",
   "execution_count": 7,
   "id": "8b5768f6",
   "metadata": {},
   "outputs": [
    {
     "name": "stdout",
     "output_type": "stream",
     "text": [
      "<class 'pandas.core.frame.DataFrame'>\n",
      "RangeIndex: 157 entries, 0 to 156\n",
      "Data columns (total 15 columns):\n",
      " #   Column               Non-Null Count  Dtype  \n",
      "---  ------               --------------  -----  \n",
      " 0   Sales_in_thousands   157 non-null    float64\n",
      " 1   __year_resale_value  121 non-null    float64\n",
      " 2   Price_in_thousands   155 non-null    float64\n",
      " 3   Engine_size          156 non-null    float64\n",
      " 4   Horsepower           156 non-null    float64\n",
      " 5   Wheelbase            156 non-null    float64\n",
      " 6   Width                156 non-null    float64\n",
      " 7   Length               156 non-null    float64\n",
      " 8   Curb_weight          155 non-null    float64\n",
      " 9   Fuel_capacity        156 non-null    float64\n",
      " 10  Fuel_efficiency      154 non-null    float64\n",
      " 11  Latest_Launch        157 non-null    object \n",
      " 12  Power_perf_factor    155 non-null    float64\n",
      " 13  Car                  157 non-null    uint8  \n",
      " 14  Passenger            157 non-null    uint8  \n",
      "dtypes: float64(12), object(1), uint8(2)\n",
      "memory usage: 16.4+ KB\n"
     ]
    }
   ],
   "source": [
    "new_data.info()"
   ]
  },
  {
   "cell_type": "code",
   "execution_count": 8,
   "id": "8b6c4897",
   "metadata": {},
   "outputs": [],
   "source": [
    "new_data['Car']=new_data['Car'].astype(float)\n",
    "new_data['Passenger']=new_data['Passenger'].astype(float)"
   ]
  },
  {
   "cell_type": "code",
   "execution_count": 9,
   "id": "a0fa819b",
   "metadata": {},
   "outputs": [
    {
     "name": "stdout",
     "output_type": "stream",
     "text": [
      "<class 'pandas.core.frame.DataFrame'>\n",
      "RangeIndex: 157 entries, 0 to 156\n",
      "Data columns (total 15 columns):\n",
      " #   Column               Non-Null Count  Dtype  \n",
      "---  ------               --------------  -----  \n",
      " 0   Sales_in_thousands   157 non-null    float64\n",
      " 1   __year_resale_value  121 non-null    float64\n",
      " 2   Price_in_thousands   155 non-null    float64\n",
      " 3   Engine_size          156 non-null    float64\n",
      " 4   Horsepower           156 non-null    float64\n",
      " 5   Wheelbase            156 non-null    float64\n",
      " 6   Width                156 non-null    float64\n",
      " 7   Length               156 non-null    float64\n",
      " 8   Curb_weight          155 non-null    float64\n",
      " 9   Fuel_capacity        156 non-null    float64\n",
      " 10  Fuel_efficiency      154 non-null    float64\n",
      " 11  Latest_Launch        157 non-null    object \n",
      " 12  Power_perf_factor    155 non-null    float64\n",
      " 13  Car                  157 non-null    float64\n",
      " 14  Passenger            157 non-null    float64\n",
      "dtypes: float64(14), object(1)\n",
      "memory usage: 18.5+ KB\n"
     ]
    }
   ],
   "source": [
    "new_data.info()"
   ]
  },
  {
   "cell_type": "code",
   "execution_count": 10,
   "id": "2357357a",
   "metadata": {},
   "outputs": [
    {
     "data": {
      "text/plain": [
       "Sales_in_thousands      0\n",
       "__year_resale_value    36\n",
       "Price_in_thousands      2\n",
       "Engine_size             1\n",
       "Horsepower              1\n",
       "Wheelbase               1\n",
       "Width                   1\n",
       "Length                  1\n",
       "Curb_weight             2\n",
       "Fuel_capacity           1\n",
       "Fuel_efficiency         3\n",
       "Latest_Launch           0\n",
       "Power_perf_factor       2\n",
       "Car                     0\n",
       "Passenger               0\n",
       "dtype: int64"
      ]
     },
     "execution_count": 10,
     "metadata": {},
     "output_type": "execute_result"
    }
   ],
   "source": [
    "new_data.isnull().sum()"
   ]
  },
  {
   "cell_type": "code",
   "execution_count": 11,
   "id": "7ffe9dc1",
   "metadata": {},
   "outputs": [],
   "source": [
    "new_data1 = new_data.dropna(how='any')"
   ]
  },
  {
   "cell_type": "code",
   "execution_count": 12,
   "id": "fd7399fa",
   "metadata": {},
   "outputs": [
    {
     "name": "stdout",
     "output_type": "stream",
     "text": [
      "<class 'pandas.core.frame.DataFrame'>\n",
      "Int64Index: 117 entries, 0 to 149\n",
      "Data columns (total 15 columns):\n",
      " #   Column               Non-Null Count  Dtype  \n",
      "---  ------               --------------  -----  \n",
      " 0   Sales_in_thousands   117 non-null    float64\n",
      " 1   __year_resale_value  117 non-null    float64\n",
      " 2   Price_in_thousands   117 non-null    float64\n",
      " 3   Engine_size          117 non-null    float64\n",
      " 4   Horsepower           117 non-null    float64\n",
      " 5   Wheelbase            117 non-null    float64\n",
      " 6   Width                117 non-null    float64\n",
      " 7   Length               117 non-null    float64\n",
      " 8   Curb_weight          117 non-null    float64\n",
      " 9   Fuel_capacity        117 non-null    float64\n",
      " 10  Fuel_efficiency      117 non-null    float64\n",
      " 11  Latest_Launch        117 non-null    object \n",
      " 12  Power_perf_factor    117 non-null    float64\n",
      " 13  Car                  117 non-null    float64\n",
      " 14  Passenger            117 non-null    float64\n",
      "dtypes: float64(14), object(1)\n",
      "memory usage: 14.6+ KB\n"
     ]
    }
   ],
   "source": [
    "new_data1.info()"
   ]
  },
  {
   "cell_type": "code",
   "execution_count": 13,
   "id": "e21b0bb5",
   "metadata": {},
   "outputs": [
    {
     "name": "stderr",
     "output_type": "stream",
     "text": [
      "C:\\Users\\aroy8\\AppData\\Local\\Temp/ipykernel_20684/3819936215.py:1: SettingWithCopyWarning: \n",
      "A value is trying to be set on a copy of a slice from a DataFrame.\n",
      "Try using .loc[row_indexer,col_indexer] = value instead\n",
      "\n",
      "See the caveats in the documentation: https://pandas.pydata.org/pandas-docs/stable/user_guide/indexing.html#returning-a-view-versus-a-copy\n",
      "  new_data1['Latest_Launch'] = new_data1['Latest_Launch'].astype('datetime64[ns]')\n"
     ]
    }
   ],
   "source": [
    "new_data1['Latest_Launch'] = new_data1['Latest_Launch'].astype('datetime64[ns]')"
   ]
  },
  {
   "cell_type": "code",
   "execution_count": 14,
   "id": "9c550aa8",
   "metadata": {},
   "outputs": [
    {
     "name": "stderr",
     "output_type": "stream",
     "text": [
      "C:\\Users\\aroy8\\AppData\\Local\\Temp/ipykernel_20684/102083012.py:1: SettingWithCopyWarning: \n",
      "A value is trying to be set on a copy of a slice from a DataFrame.\n",
      "Try using .loc[row_indexer,col_indexer] = value instead\n",
      "\n",
      "See the caveats in the documentation: https://pandas.pydata.org/pandas-docs/stable/user_guide/indexing.html#returning-a-view-versus-a-copy\n",
      "  new_data1['Latest_Launch'] = new_data1['Latest_Launch'].astype('string')\n",
      "C:\\Users\\aroy8\\AppData\\Local\\Temp/ipykernel_20684/102083012.py:2: SettingWithCopyWarning: \n",
      "A value is trying to be set on a copy of a slice from a DataFrame.\n",
      "Try using .loc[row_indexer,col_indexer] = value instead\n",
      "\n",
      "See the caveats in the documentation: https://pandas.pydata.org/pandas-docs/stable/user_guide/indexing.html#returning-a-view-versus-a-copy\n",
      "  new_data1['Latest_Launch'] = new_data1.Latest_Launch.str.replace('-', '').astype('float')\n"
     ]
    }
   ],
   "source": [
    "new_data1['Latest_Launch'] = new_data1['Latest_Launch'].astype('string')\n",
    "new_data1['Latest_Launch'] = new_data1.Latest_Launch.str.replace('-', '').astype('float')"
   ]
  },
  {
   "cell_type": "code",
   "execution_count": 15,
   "id": "c0457747",
   "metadata": {},
   "outputs": [
    {
     "name": "stdout",
     "output_type": "stream",
     "text": [
      "<class 'pandas.core.frame.DataFrame'>\n",
      "Int64Index: 117 entries, 0 to 149\n",
      "Data columns (total 15 columns):\n",
      " #   Column               Non-Null Count  Dtype  \n",
      "---  ------               --------------  -----  \n",
      " 0   Sales_in_thousands   117 non-null    float64\n",
      " 1   __year_resale_value  117 non-null    float64\n",
      " 2   Price_in_thousands   117 non-null    float64\n",
      " 3   Engine_size          117 non-null    float64\n",
      " 4   Horsepower           117 non-null    float64\n",
      " 5   Wheelbase            117 non-null    float64\n",
      " 6   Width                117 non-null    float64\n",
      " 7   Length               117 non-null    float64\n",
      " 8   Curb_weight          117 non-null    float64\n",
      " 9   Fuel_capacity        117 non-null    float64\n",
      " 10  Fuel_efficiency      117 non-null    float64\n",
      " 11  Latest_Launch        117 non-null    float64\n",
      " 12  Power_perf_factor    117 non-null    float64\n",
      " 13  Car                  117 non-null    float64\n",
      " 14  Passenger            117 non-null    float64\n",
      "dtypes: float64(15)\n",
      "memory usage: 14.6 KB\n"
     ]
    }
   ],
   "source": [
    "new_data1.info()"
   ]
  },
  {
   "cell_type": "markdown",
   "id": "170dab17",
   "metadata": {},
   "source": [
    "## Splitting data into training and testing set + Model training "
   ]
  },
  {
   "cell_type": "code",
   "execution_count": 16,
   "id": "e607cc52",
   "metadata": {},
   "outputs": [
    {
     "data": {
      "text/plain": [
       "LinearRegression()"
      ]
     },
     "execution_count": 16,
     "metadata": {},
     "output_type": "execute_result"
    }
   ],
   "source": [
    "from sklearn.model_selection import train_test_split\n",
    "train_set, test_set = train_test_split(new_data1, test_size=0.2, random_state=6)\n",
    "x_train = train_set.drop(columns='Price_in_thousands')\n",
    "y_train = train_set['Price_in_thousands']\n",
    "x_test = test_set.drop(columns='Price_in_thousands')\n",
    "y_test = test_set['Price_in_thousands']\n",
    "\n",
    "from sklearn.linear_model import LinearRegression\n",
    "model = LinearRegression()\n",
    "model.fit(x_train, y_train)"
   ]
  },
  {
   "cell_type": "markdown",
   "id": "3f60f0cd",
   "metadata": {},
   "source": [
    "## Model Predictions"
   ]
  },
  {
   "cell_type": "code",
   "execution_count": 17,
   "id": "41dd004a",
   "metadata": {},
   "outputs": [],
   "source": [
    "predictions = model.predict(x_test)"
   ]
  },
  {
   "cell_type": "markdown",
   "id": "d673aa74",
   "metadata": {},
   "source": [
    "## Root mean squared error for model evaluation"
   ]
  },
  {
   "cell_type": "code",
   "execution_count": 18,
   "id": "6228a27d",
   "metadata": {},
   "outputs": [
    {
     "name": "stdout",
     "output_type": "stream",
     "text": [
      "3.3845845511581666e-08\n"
     ]
    }
   ],
   "source": [
    "from sklearn.metrics import mean_squared_error\n",
    "mse = mean_squared_error(y_test, predictions)\n",
    "print(np.sqrt(mse))"
   ]
  },
  {
   "cell_type": "markdown",
   "id": "d0f4b82f",
   "metadata": {},
   "source": [
    "## Saving model using Joblib or Pickle"
   ]
  },
  {
   "cell_type": "code",
   "execution_count": 19,
   "id": "50f14935",
   "metadata": {},
   "outputs": [
    {
     "data": {
      "text/plain": [
       "['car.joblib']"
      ]
     },
     "execution_count": 19,
     "metadata": {},
     "output_type": "execute_result"
    }
   ],
   "source": [
    "from joblib import dump, load\n",
    "dump(model, 'car.joblib')"
   ]
  },
  {
   "cell_type": "markdown",
   "id": "23f7cd01",
   "metadata": {},
   "source": [
    "## Visualisation of Linear Regression with some features "
   ]
  },
  {
   "cell_type": "code",
   "execution_count": 20,
   "id": "486d9712",
   "metadata": {},
   "outputs": [
    {
     "data": {
      "image/png": "[encoded data removed]",
      "text/plain": [
       "<Figure size 432x288 with 1 Axes>"
      ]
     },
     "metadata": {
      "needs_background": "light"
     },
     "output_type": "display_data"
    },
    {
     "data": {
      "image/png": "[encoded data removed]",
      "text/plain": [
       "<Figure size 432x288 with 1 Axes>"
      ]
     },
     "metadata": {
      "needs_background": "light"
     },
     "output_type": "display_data"
    }
   ],
   "source": [
    "import matplotlib.pyplot as plt\n",
    "\n",
    "plt.scatter(x_test['Horsepower'],y_test)\n",
    "plt.show()\n",
    "\n",
    "plt.scatter(x_test['Horsepower'],y_test)\n",
    "plt.plot(x_test['Horsepower'],predictions)\n",
    "plt.show()"
   ]
  },
  {
   "cell_type": "code",
   "execution_count": 21,
   "id": "7a6a1e08",
   "metadata": {},
   "outputs": [
    {
     "data": {
      "image/png": "[encoded data removed]",
      "text/plain": [
       "<Figure size 432x288 with 1 Axes>"
      ]
     },
     "metadata": {
      "needs_background": "light"
     },
     "output_type": "display_data"
    },
    {
     "data": {
      "image/png": "[encoded data removed]",
      "text/plain": [
       "<Figure size 432x288 with 1 Axes>"
      ]
     },
     "metadata": {
      "needs_background": "light"
     },
     "output_type": "display_data"
    }
   ],
   "source": [
    "plt.scatter(x_test['Latest_Launch'],y_test)\n",
    "plt.show()\n",
    "\n",
    "plt.scatter(x_test['Latest_Launch'],y_test)\n",
    "plt.plot(x_test['Latest_Launch'],predictions)\n",
    "plt.show()"
   ]
  },
  {
   "cell_type": "code",
   "execution_count": 22,
   "id": "7c85ce70",
   "metadata": {},
   "outputs": [
    {
     "data": {
      "image/png": "[encoded data removed]",
      "text/plain": [
       "<Figure size 432x288 with 1 Axes>"
      ]
     },
     "metadata": {
      "needs_background": "light"
     },
     "output_type": "display_data"
    },
    {
     "data": {
      "image/png": "[encoded data removed]",
      "text/plain": [
       "<Figure size 432x288 with 1 Axes>"
      ]
     },
     "metadata": {
      "needs_background": "light"
     },
     "output_type": "display_data"
    }
   ],
   "source": [
    "plt.scatter(x_test['Fuel_efficiency'],y_test)\n",
    "plt.show()\n",
    "\n",
    "plt.scatter(x_test['Fuel_efficiency'],y_test)\n",
    "plt.plot(x_test['Fuel_efficiency'],predictions)\n",
    "plt.show()"
   ]
  }
 ],
 "metadata": {
  "kernelspec": {
   "display_name": "Python 3 (ipykernel)",
   "language": "python",
   "name": "python3"
  },
  "language_info": {
   "codemirror_mode": {
    "name": "ipython",
    "version": 3
   },
   "file_extension": ".py",
   "mimetype": "text/x-python",
   "name": "python",
   "nbconvert_exporter": "python",
   "pygments_lexer": "ipython3",
   "version": "3.9.7"
  }
 },
 "nbformat": 4,
 "nbformat_minor": 5
}
